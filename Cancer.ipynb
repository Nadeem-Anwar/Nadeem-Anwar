{
  "nbformat": 4,
  "nbformat_minor": 0,
  "metadata": {
    "colab": {
      "provenance": [],
      "authorship_tag": "ABX9TyPwsU7FMHl3et9QnV+ljuVo",
      "include_colab_link": true
    },
    "kernelspec": {
      "name": "python3",
      "display_name": "Python 3"
    },
    "language_info": {
      "name": "python"
    }
  },
  "cells": [
    {
      "cell_type": "markdown",
      "metadata": {
        "id": "view-in-github",
        "colab_type": "text"
      },
      "source": [
        "<a href=\"https://colab.research.google.com/github/Nadeem-Anwar/Nadeem-Anwar/blob/main/Cancer.ipynb\" target=\"_parent\"><img src=\"https://colab.research.google.com/assets/colab-badge.svg\" alt=\"Open In Colab\"/></a>"
      ]
    },
    {
      "cell_type": "code",
      "execution_count": 1,
      "metadata": {
        "colab": {
          "base_uri": "https://localhost:8080/"
        },
        "id": "U_yi-BmgAGb7",
        "outputId": "e73e0ad7-c7a2-4dbb-9b75-ad7fa9988817"
      },
      "outputs": [
        {
          "output_type": "stream",
          "name": "stdout",
          "text": [
            "Mounted at /content/drive\n"
          ]
        }
      ],
      "source": [
        "#To mount google drive to google colab\n",
        "from google.colab import drive\n",
        "drive.mount('/content/drive')"
      ]
    },
    {
      "cell_type": "code",
      "source": [
        "import cv2\n",
        "import matplotlib.pyplot as plt\n",
        "\n",
        "im = cv2.imread(\"/content/drive/MyDrive/BreaKHis_v1/histology_slides/breast/benign/SOB/adenosis/SOB_B_A_14-22549AB/400X/SOB_B_A-14-22549AB-400-001.png\")\n",
        "print(im.shape,im.size)\n",
        "plt.imshow(im)"
      ],
      "metadata": {
        "id": "P3kUKzsdAqSi"
      },
      "execution_count": null,
      "outputs": []
    },
    {
      "cell_type": "code",
      "source": [
        "import os\n",
        "import cv2\n",
        "from matplotlib import pyplot\n",
        "source = '/content/drive/MyDrive/BreaKHis_v1/histology_slides/breast'\n",
        "dest = '/content/sample_data'\n",
        "try:\n",
        "  benign = os.mkdir(dest + '/benign')\n",
        "  malign = os.mkdir(dest + '/malignant')\n",
        "except FileExistsError:\n",
        "  print('Destination folders already exist')\n",
        "os.chdir(source)\n",
        "for d in os.listdir():\n",
        "  if d == 'benign':\n",
        "    os.chdir(d)\n",
        "for d in os.listdir():\n",
        "  if d == 'SOB':\n",
        "    os.chdir(d)\n",
        "for typeDir in os.listdir():\n",
        "  os.chdir(typeDir)\n",
        "  for patientDir in os.listdir():\n",
        "    os.chdir(patientDir)\n",
        "    for d in os.listdir():\n",
        "      if d == '400X':\n",
        "        os.chdir(d)\n",
        "        print('******', os.getcwd() , '******')\n",
        "        for f in os.listdir():\n",
        "          file = os.getcwd() + '/' + f\n",
        "          print(file)\n",
        "          im = cv2.imread(file)\n",
        "          pyplot.imsave(dest + '/benign/' + f, im)\n",
        "        os.chdir(os.pardir)\n",
        "        break\n",
        "    os.chdir(os.pardir)\n",
        "    break\n",
        "  os.chdir(os.pardir)\n",
        "  break\n",
        "os.getcwd()"
      ],
      "metadata": {
        "id": "Qph-uPlCIiSo"
      },
      "execution_count": null,
      "outputs": []
    },
    {
      "cell_type": "code",
      "source": [
        "import os\n",
        "import cv2\n",
        "from matplotlib import pyplot\n",
        "source = '/content/drive/MyDrive/BreaKHis_v1/histology_slides/breast'\n",
        "dest = '/content/sample_data'\n",
        "\n",
        "try:\n",
        "  benign = os.mkdir(dest + '/benign')\n",
        "  malign = os.mkdir(dest + '/malignant')\n",
        "except FileExistsError:\n",
        "  print('Destination folders already exist')\n",
        "os.chdir(source)\n",
        "for d in os.listdir():\n",
        "  if d == 'benign':\n",
        "    os.chdir(d)\n",
        "    dest = dest + '/benign/'\n",
        "    print(os.getcwd(),dest)\n",
        "  elif d == 'malign':\n",
        "    os.chdir(d)\n",
        "    dest = dest + '/malignant/'\n",
        "    print(os.getcwd(),dest)\n",
        "  for dd in os.listdir():\n",
        "    if dd == 'SOB':\n",
        "      os.chdir(dd)\n",
        "      os.getcwd()\n",
        "    for typeDir in os.listdir():\n",
        "      print(os.getcwd(),os.listdir())\n",
        "      print(dest)\n",
        "      os.chdir(typeDir)\n",
        "      for patientDir in os.listdir():\n",
        "        os.chdir(patientDir)\n",
        "        for x in os.listdir():\n",
        "          if x == '400X':\n",
        "            os.chdir(x)\n",
        "            print('******', os.getcwd() , '******')\n",
        "            for f in os.listdir():\n",
        "              file = os.getcwd() + '/' + f\n",
        "              print(file)\n",
        "              im = cv2.imread(file)\n",
        "              pyplot.imsave(dest + f, im)\n",
        "            os.chdir(os.pardir)\n",
        "            break\n",
        "          os.chdir(os.pardir)\n",
        "          break\n",
        "        os.chdir(os.pardir)\n",
        "        break\n",
        "    os.chdir(os.pardir)\n",
        "    break\n",
        "  os.chdir(os.pardir)\n",
        "  break\n",
        "os.getcwd()"
      ],
      "metadata": {
        "colab": {
          "base_uri": "https://localhost:8080/",
          "height": 287
        },
        "outputId": "dce6cad4-b70d-4874-e17a-d74210dc635f",
        "id": "WEP_tTr_Vi8z"
      },
      "execution_count": 10,
      "outputs": [
        {
          "output_type": "stream",
          "name": "stdout",
          "text": [
            "Destination folders already exist\n",
            "/content/drive/MyDrive/BreaKHis_v1/histology_slides/breast ['README.txt', 'count_files.sh', 'malignant', 'benign']\n",
            "/content/sample_data\n"
          ]
        },
        {
          "output_type": "error",
          "ename": "NotADirectoryError",
          "evalue": "ignored",
          "traceback": [
            "\u001b[0;31m---------------------------------------------------------------------------\u001b[0m",
            "\u001b[0;31mNotADirectoryError\u001b[0m                        Traceback (most recent call last)",
            "\u001b[0;32m<ipython-input-10-959246e58925>\u001b[0m in \u001b[0;36m<module>\u001b[0;34m\u001b[0m\n\u001b[1;32m     27\u001b[0m       \u001b[0mprint\u001b[0m\u001b[0;34m(\u001b[0m\u001b[0mos\u001b[0m\u001b[0;34m.\u001b[0m\u001b[0mgetcwd\u001b[0m\u001b[0;34m(\u001b[0m\u001b[0;34m)\u001b[0m\u001b[0;34m,\u001b[0m\u001b[0mos\u001b[0m\u001b[0;34m.\u001b[0m\u001b[0mlistdir\u001b[0m\u001b[0;34m(\u001b[0m\u001b[0;34m)\u001b[0m\u001b[0;34m)\u001b[0m\u001b[0;34m\u001b[0m\u001b[0;34m\u001b[0m\u001b[0m\n\u001b[1;32m     28\u001b[0m       \u001b[0mprint\u001b[0m\u001b[0;34m(\u001b[0m\u001b[0mdest\u001b[0m\u001b[0;34m)\u001b[0m\u001b[0;34m\u001b[0m\u001b[0;34m\u001b[0m\u001b[0m\n\u001b[0;32m---> 29\u001b[0;31m       \u001b[0mos\u001b[0m\u001b[0;34m.\u001b[0m\u001b[0mchdir\u001b[0m\u001b[0;34m(\u001b[0m\u001b[0mtypeDir\u001b[0m\u001b[0;34m)\u001b[0m\u001b[0;34m\u001b[0m\u001b[0;34m\u001b[0m\u001b[0m\n\u001b[0m\u001b[1;32m     30\u001b[0m       \u001b[0;32mfor\u001b[0m \u001b[0mpatientDir\u001b[0m \u001b[0;32min\u001b[0m \u001b[0mos\u001b[0m\u001b[0;34m.\u001b[0m\u001b[0mlistdir\u001b[0m\u001b[0;34m(\u001b[0m\u001b[0;34m)\u001b[0m\u001b[0;34m:\u001b[0m\u001b[0;34m\u001b[0m\u001b[0;34m\u001b[0m\u001b[0m\n\u001b[1;32m     31\u001b[0m         \u001b[0mos\u001b[0m\u001b[0;34m.\u001b[0m\u001b[0mchdir\u001b[0m\u001b[0;34m(\u001b[0m\u001b[0mpatientDir\u001b[0m\u001b[0;34m)\u001b[0m\u001b[0;34m\u001b[0m\u001b[0;34m\u001b[0m\u001b[0m\n",
            "\u001b[0;31mNotADirectoryError\u001b[0m: [Errno 20] Not a directory: 'README.txt'"
          ]
        }
      ]
    }
  ]
}