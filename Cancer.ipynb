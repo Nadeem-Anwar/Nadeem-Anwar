{
  "nbformat": 4,
  "nbformat_minor": 0,
  "metadata": {
    "colab": {
      "provenance": [],
      "authorship_tag": "ABX9TyPwsU7FMHl3et9QnV+ljuVo",
      "include_colab_link": true
    },
    "kernelspec": {
      "name": "python3",
      "display_name": "Python 3"
    },
    "language_info": {
      "name": "python"
    }
  },
  "cells": [
    {
      "cell_type": "markdown",
      "metadata": {
        "id": "view-in-github",
        "colab_type": "text"
      },
      "source": [
        "<a href=\"https://colab.research.google.com/github/Nadeem-Anwar/Nadeem-Anwar/blob/main/Cancer.ipynb\" target=\"_parent\"><img src=\"https://colab.research.google.com/assets/colab-badge.svg\" alt=\"Open In Colab\"/></a>"
      ]
    },
    {
      "cell_type": "code",
      "execution_count": 1,
      "metadata": {
        "colab": {
          "base_uri": "https://localhost:8080/"
        },
        "id": "U_yi-BmgAGb7",
        "outputId": "e73e0ad7-c7a2-4dbb-9b75-ad7fa9988817"
      },
      "outputs": [
        {
          "output_type": "stream",
          "name": "stdout",
          "text": [
            "Mounted at /content/drive\n"
          ]
        }
      ],
      "source": [
        "#To mount google drive to google colab\n",
        "from google.colab import drive\n",
        "drive.mount('/content/drive')"
      ]
    },
    {
      "cell_type": "code",
      "source": [
        "import cv2\n",
        "import matplotlib.pyplot as plt\n",
        "\n",
        "im = cv2.imread(\"/content/drive/MyDrive/BreaKHis_v1/histology_slides/breast/benign/SOB/adenosis/SOB_B_A_14-22549AB/400X/SOB_B_A-14-22549AB-400-001.png\")\n",
        "print(im.shape,im.size)\n",
        "plt.imshow(im)"
      ],
      "metadata": {
        "id": "P3kUKzsdAqSi"
      },
      "execution_count": null,
      "outputs": []
    },
    {
      "cell_type": "code",
      "source": [
        "import os\n",
        "import cv2\n",
        "from matplotlib import pyplot\n",
        "source = '/content/drive/MyDrive/BreaKHis_v1/histology_slides/breast'\n",
        "dest = '/content/sample_data'\n",
        "try:\n",
        "  benign = os.mkdir(dest + '/benign')\n",
        "  malign = os.mkdir(dest + '/malignant')\n",
        "except FileExistsError:\n",
        "  print('Destination folders already exist')\n",
        "os.chdir(source)\n",
        "for d in os.listdir():\n",
        "  if d == 'benign':\n",
        "    os.chdir(d)\n",
        "for d in os.listdir():\n",
        "  if d == 'SOB':\n",
        "    os.chdir(d)\n",
        "for typeDir in os.listdir():\n",
        "  os.chdir(typeDir)\n",
        "  for patientDir in os.listdir():\n",
        "    os.chdir(patientDir)\n",
        "    for d in os.listdir():\n",
        "      if d == '400X':\n",
        "        os.chdir(d)\n",
        "        print('******', os.getcwd() , '******')\n",
        "        for f in os.listdir():\n",
        "          file = os.getcwd() + '/' + f\n",
        "          print(file)\n",
        "          im = cv2.imread(file)\n",
        "          pyplot.imsave(dest + '/benign/' + f, im)\n",
        "        os.chdir(os.pardir)\n",
        "        break\n",
        "    os.chdir(os.pardir)\n",
        "    break\n",
        "  os.chdir(os.pardir)\n",
        "  break\n",
        "os.getcwd()"
      ],
      "metadata": {
        "colab": {
          "base_uri": "https://localhost:8080/",
          "height": 574
        },
        "id": "Qph-uPlCIiSo",
        "outputId": "5b61c71f-7766-4100-f0e4-03ee87d80539"
      },
      "execution_count": 2,
      "outputs": [
        {
          "output_type": "stream",
          "name": "stdout",
          "text": [
            "****** /content/drive/MyDrive/BreaKHis_v1/histology_slides/breast/benign/SOB/adenosis/SOB_B_A_14-22549AB/400X ******\n",
            "/content/drive/MyDrive/BreaKHis_v1/histology_slides/breast/benign/SOB/adenosis/SOB_B_A_14-22549AB/400X/SOB_B_A-14-22549AB-400-001.png\n",
            "/content/drive/MyDrive/BreaKHis_v1/histology_slides/breast/benign/SOB/adenosis/SOB_B_A_14-22549AB/400X/SOB_B_A-14-22549AB-400-006.png\n",
            "/content/drive/MyDrive/BreaKHis_v1/histology_slides/breast/benign/SOB/adenosis/SOB_B_A_14-22549AB/400X/SOB_B_A-14-22549AB-400-004.png\n",
            "/content/drive/MyDrive/BreaKHis_v1/histology_slides/breast/benign/SOB/adenosis/SOB_B_A_14-22549AB/400X/SOB_B_A-14-22549AB-400-003.png\n",
            "/content/drive/MyDrive/BreaKHis_v1/histology_slides/breast/benign/SOB/adenosis/SOB_B_A_14-22549AB/400X/SOB_B_A-14-22549AB-400-002.png\n",
            "/content/drive/MyDrive/BreaKHis_v1/histology_slides/breast/benign/SOB/adenosis/SOB_B_A_14-22549AB/400X/SOB_B_A-14-22549AB-400-005.png\n",
            "/content/drive/MyDrive/BreaKHis_v1/histology_slides/breast/benign/SOB/adenosis/SOB_B_A_14-22549AB/400X/SOB_B_A-14-22549AB-400-007.png\n",
            "/content/drive/MyDrive/BreaKHis_v1/histology_slides/breast/benign/SOB/adenosis/SOB_B_A_14-22549AB/400X/SOB_B_A-14-22549AB-400-008.png\n",
            "/content/drive/MyDrive/BreaKHis_v1/histology_slides/breast/benign/SOB/adenosis/SOB_B_A_14-22549AB/400X/SOB_B_A-14-22549AB-400-010.png\n",
            "/content/drive/MyDrive/BreaKHis_v1/histology_slides/breast/benign/SOB/adenosis/SOB_B_A_14-22549AB/400X/SOB_B_A-14-22549AB-400-009.png\n",
            "/content/drive/MyDrive/BreaKHis_v1/histology_slides/breast/benign/SOB/adenosis/SOB_B_A_14-22549AB/400X/SOB_B_A-14-22549AB-400-013.png\n",
            "/content/drive/MyDrive/BreaKHis_v1/histology_slides/breast/benign/SOB/adenosis/SOB_B_A_14-22549AB/400X/SOB_B_A-14-22549AB-400-011.png\n",
            "/content/drive/MyDrive/BreaKHis_v1/histology_slides/breast/benign/SOB/adenosis/SOB_B_A_14-22549AB/400X/SOB_B_A-14-22549AB-400-012.png\n",
            "/content/drive/MyDrive/BreaKHis_v1/histology_slides/breast/benign/SOB/adenosis/SOB_B_A_14-22549AB/400X/SOB_B_A-14-22549AB-400-014.png\n",
            "/content/drive/MyDrive/BreaKHis_v1/histology_slides/breast/benign/SOB/adenosis/SOB_B_A_14-22549AB/400X/SOB_B_A-14-22549AB-400-017.png\n",
            "/content/drive/MyDrive/BreaKHis_v1/histology_slides/breast/benign/SOB/adenosis/SOB_B_A_14-22549AB/400X/SOB_B_A-14-22549AB-400-018.png\n",
            "/content/drive/MyDrive/BreaKHis_v1/histology_slides/breast/benign/SOB/adenosis/SOB_B_A_14-22549AB/400X/SOB_B_A-14-22549AB-400-015.png\n",
            "/content/drive/MyDrive/BreaKHis_v1/histology_slides/breast/benign/SOB/adenosis/SOB_B_A_14-22549AB/400X/SOB_B_A-14-22549AB-400-016.png\n",
            "/content/drive/MyDrive/BreaKHis_v1/histology_slides/breast/benign/SOB/adenosis/SOB_B_A_14-22549AB/400X/SOB_B_A-14-22549AB-400-020.png\n",
            "/content/drive/MyDrive/BreaKHis_v1/histology_slides/breast/benign/SOB/adenosis/SOB_B_A_14-22549AB/400X/SOB_B_A-14-22549AB-400-023.png\n",
            "/content/drive/MyDrive/BreaKHis_v1/histology_slides/breast/benign/SOB/adenosis/SOB_B_A_14-22549AB/400X/SOB_B_A-14-22549AB-400-021.png\n",
            "/content/drive/MyDrive/BreaKHis_v1/histology_slides/breast/benign/SOB/adenosis/SOB_B_A_14-22549AB/400X/SOB_B_A-14-22549AB-400-019.png\n",
            "/content/drive/MyDrive/BreaKHis_v1/histology_slides/breast/benign/SOB/adenosis/SOB_B_A_14-22549AB/400X/SOB_B_A-14-22549AB-400-022.png\n",
            "/content/drive/MyDrive/BreaKHis_v1/histology_slides/breast/benign/SOB/adenosis/SOB_B_A_14-22549AB/400X/SOB_B_A-14-22549AB-400-024.png\n",
            "/content/drive/MyDrive/BreaKHis_v1/histology_slides/breast/benign/SOB/adenosis/SOB_B_A_14-22549AB/400X/SOB_B_A-14-22549AB-400-025.png\n",
            "/content/drive/MyDrive/BreaKHis_v1/histology_slides/breast/benign/SOB/adenosis/SOB_B_A_14-22549AB/400X/SOB_B_A-14-22549AB-400-030.png\n",
            "/content/drive/MyDrive/BreaKHis_v1/histology_slides/breast/benign/SOB/adenosis/SOB_B_A_14-22549AB/400X/SOB_B_A-14-22549AB-400-029.png\n",
            "/content/drive/MyDrive/BreaKHis_v1/histology_slides/breast/benign/SOB/adenosis/SOB_B_A_14-22549AB/400X/SOB_B_A-14-22549AB-400-026.png\n",
            "/content/drive/MyDrive/BreaKHis_v1/histology_slides/breast/benign/SOB/adenosis/SOB_B_A_14-22549AB/400X/SOB_B_A-14-22549AB-400-027.png\n",
            "/content/drive/MyDrive/BreaKHis_v1/histology_slides/breast/benign/SOB/adenosis/SOB_B_A_14-22549AB/400X/SOB_B_A-14-22549AB-400-028.png\n"
          ]
        },
        {
          "output_type": "execute_result",
          "data": {
            "text/plain": [
              "'/content/drive/MyDrive/BreaKHis_v1/histology_slides/breast/benign/SOB'"
            ],
            "application/vnd.google.colaboratory.intrinsic+json": {
              "type": "string"
            }
          },
          "metadata": {},
          "execution_count": 2
        }
      ]
    },
    {
      "cell_type": "code",
      "source": [
        "import os\n",
        "import cv2\n",
        "from matplotlib import pyplot\n",
        "source = '/content/drive/MyDrive/BreaKHis_v1/histology_slides/breast'\n",
        "dest = '/content/sample_data'\n",
        "\n",
        "try:\n",
        "  benign = os.mkdir(dest + '/benign')\n",
        "  malign = os.mkdir(dest + '/malignant')\n",
        "except FileExistsError:\n",
        "  print('Destination folders already exist')\n",
        "os.chdir(source)\n",
        "for d in os.listdir():\n",
        "  if d == 'benign':\n",
        "    os.chdir(d)\n",
        "    dest = dest + '/benign/'\n",
        "    print(os.getcwd(),dest)\n",
        "  elif d == 'malign':\n",
        "    os.chdir(d)\n",
        "    dest = dest + '/malignant/'\n",
        "    print(os.getcwd(),dest)\n",
        "  for dd in os.listdir():\n",
        "    if dd == 'SOB':\n",
        "      os.chdir(dd)\n",
        "      os.getcwd()\n",
        "    for typeDir in os.listdir():\n",
        "      print(os.getcwd(),os.listdir())\n",
        "      print(dest)\n",
        "      os.chdir(typeDir)\n",
        "      for patientDir in os.listdir():\n",
        "        os.chdir(patientDir)\n",
        "        for x in os.listdir():\n",
        "          if x == '400X':\n",
        "            os.chdir(x)\n",
        "            print('******', os.getcwd() , '******')\n",
        "            for f in os.listdir():\n",
        "              file = os.getcwd() + '/' + f\n",
        "              print(file)\n",
        "              im = cv2.imread(file)\n",
        "              pyplot.imsave(dest + f, im)\n",
        "            os.chdir(os.pardir)\n",
        "            break\n",
        "          os.chdir(os.pardir)\n",
        "          break\n",
        "        os.chdir(os.pardir)\n",
        "        break\n",
        "    os.chdir(os.pardir)\n",
        "    break\n",
        "  os.chdir(os.pardir)\n",
        "  break\n",
        "os.getcwd()"
      ],
      "metadata": {
        "id": "WEP_tTr_Vi8z"
      },
      "execution_count": null,
      "outputs": []
    }
  ]
}